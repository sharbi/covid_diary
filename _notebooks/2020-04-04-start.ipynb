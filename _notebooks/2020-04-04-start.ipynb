{
 "cells": [
  {
   "cell_type": "markdown",
   "metadata": {},
   "source": [
    "# Early reflections\n",
    "> Initial ramblings about my time during COVID\n",
    "\n",
    "- toc: true\n",
    "- comments: true\n",
    "- author: Sean Harbison\n",
    "- categories: [COVID, blog]\n"
   ]
  },
  {
   "cell_type": "markdown",
   "metadata": {},
   "source": [
    "> Warning: This post will be mostly nonsense."
   ]
  },
  {
   "cell_type": "markdown",
   "metadata": {
    "collapsed": true
   },
   "source": [
    "# Intro\n",
    "\n",
    "I am mainly using this as an opportunity to reflect during lockdown and hopefully will have something to look back on and remind myself of thoughts and feelings. Hopefully a useful breakdown of an Emergency Department Doctor's experience in the pandemic.\n",
    "\n",
    "Also just keen to try out fastpages and see how easy it is to use & whether I like it for general blogging that includes 0 code."
   ]
  },
  {
   "cell_type": "code",
   "execution_count": null,
   "metadata": {
    "collapsed": true
   },
   "outputs": [],
   "source": [
    "#collapse-hide\n",
    "Because this is kinda fun."
   ]
  },
  {
   "cell_type": "markdown",
   "metadata": {},
   "source": [
    "Word of warning (mainly to myself). This will probably be the longest blog post as so much has happened in such a short time and I'm only starting to write things down.\n",
    "\n"
   ]
  },
  {
   "cell_type": "markdown",
   "metadata": {},
   "source": [
    "# The Early Days\n",
    "\n",
    "The rapid discussion of COVID started when I was in Australia (09/03/2020). I was on a course with other Doctors and day 1 the discussions were jovial:\n",
    "\n",
    "\"Oh this will be an over-reaction!\" \n",
    "\"There's no way we need to be worried!\"\n",
    "\"This will pass in a few weeks\"\n",
    "\n",
    "Day 2:\n",
    "\n",
    "\"I'm sure it's nothing, it's probably being over-hyped\"\n",
    "\n",
    "Day 3 - I receive an email from my hospital \"Medical education leave will no longer be given - Doctors cannot leave the country for Educational purposes\":\n",
    "\n",
    "\"Oh wow, this is really blowing up...\"\n",
    "\n",
    "Day 5 - News from New Zealand - anyone returning from Monday 16/03/2020 00:00 must remain in isolation for 2 weeks on returning. My flight gets in 7 hours before. I'm allowed to work when I return.\n",
    "\n",
    "Almost immediately the rules are changed - the goverment wants everyone returning for 2 weeks prior to this date to also self isolate. Work recommends I only isolate if I become symptomatic.\n",
    "\n",
    "The speed of change in the feeling around this pandemic is dramatic. None of us on the course could really get a hold on how quickly things were changing. This remains the theme throughout this whole process, everything changes and escalates at a rapid pace. We have to be fast, because if we aren't then we'll be caught out."
   ]
  },
  {
   "cell_type": "markdown",
   "metadata": {},
   "source": [
    "# Back To Work\n",
    "\n",
    "In the first week back at work there are far less people attending the ED than usual. Even before bigger measures are put in place for the public there appears to be a general anxiety about coming to hospital. We're seeing fewer and fewer patients per day and there's an eerie calm to the department. All anyone can talk about is COVID. We still have no cases confirmed in the whole region where I work and yet it claws on everyone's mind. \n",
    "\n",
    "Next, the borders to NZ are closed to all non-residents, citizens or healthcare workers. This is a blow to so many working here. A vast majority of the doctors are from abroad. Some had family planning holidays over here. Some were hoping to get family over to look after them or see them before everything fell apart. It's tough. We all know it's the right choice for reducing spread of the virus, but knowing what's right doesn't stop you wanting exceptions when it's your family involved. A friend's partner was on holiday just before this happened. Now they won't see each other until the borders open up again. We already know this won't be over in a month. Still no confirmed cases where we live. But the ripple of changes still hits us.\n",
    "\n",
    "The changes are happening on a bigger scale, but in our department everything is running the same. There's a lot of discussion about what will change when we start to see cases, how we'll need to change where people are seen, how they're managed if we have concerns about them having COVID.\n",
    "\n",
    "We run a simulation \"a patient comes in, very short of breath, struggling with low saturations...\" - as many of the team involved as possible so we can try to make sure we all understand managing patients when we can't leave the room, we're in full PPE and we need to minimise exposure to ourselves and other.\n",
    "\n",
    "The main things we discover are:\n",
    "- Managing patients in this condition will be massively time consuming and pulls resources from other sick patients\n",
    "- The isolation room where we keep these patients rarely has all the necessary equipment\n",
    "- If more than one patient comes in this unwell we would be massively overwhelmed\n",
    "\n",
    "Granted, a lot of this comes from working in a smaller hospital - but it really makes us hope that the measures taken so far will flatten the curve. If we see any numbers similar to countries that are struggling then it will be impossible to keep up."
   ]
  },
  {
   "cell_type": "markdown",
   "metadata": {},
   "source": []
  }
 ],
 "metadata": {
  "kernelspec": {
   "display_name": "Python 3",
   "language": "python",
   "name": "python3"
  },
  "language_info": {
   "codemirror_mode": {
    "name": "ipython",
    "version": 3
   },
   "file_extension": ".py",
   "mimetype": "text/x-python",
   "name": "python",
   "nbconvert_exporter": "python",
   "pygments_lexer": "ipython3",
   "version": "3.6.1"
  }
 },
 "nbformat": 4,
 "nbformat_minor": 2
}
